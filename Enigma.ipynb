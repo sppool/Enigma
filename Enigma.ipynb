{
 "cells": [
  {
   "cell_type": "code",
   "execution_count": 1,
   "metadata": {},
   "outputs": [],
   "source": [
    "\"\"\"\n",
    "Created on Sun Jul 30 15:43:08 2017\n",
    "\n",
    "@author: Pool\n",
    "\"\"\"\n",
    "'''\n",
    "Enigma machine\n",
    "3 / 5 roller (I II III IV V)\n",
    "1 transform\n",
    "\n",
    "use 'for loop' variable name : locals()['roll{0}'.format(x)]\n",
    "import random\n",
    "for x in range(1,6):\n",
    "    locals()['roll{0}'.format(x)] = \\\n",
    "    ''.join(random.sample('ABCDEFGHIJKLMNOPQRSTUVWXYZ',26))\n",
    "    ''.join(串列) 把'串列字元' 結合成'字串'\n",
    "trsf(x) last roller\n",
    "'''\n",
    "import numpy as np\n",
    "\n",
    "def roll(i, j):  # i:轉盤編號 j:轉盤位置\n",
    "    '''隨機產生五個轉盤'''\n",
    "    roller = ['VSFETDKBYJIRNOXCHUMAGQPLWZ', 'FRDAQHNSCVJGIPTXYEWLBUZOKM',\n",
    "              'HYCQWFDMKIEPRBUXSAZLOVJTNG', 'KXMUARVFBGNODTLHZEPYCSWJQI',\n",
    "              'FMWSPZNGVDBXIQHCUTJAROKLEY']\n",
    "    return roller[i - 1][j:] + roller[i - 1][:j]\n",
    "\n",
    "def trsf(word, aa=0, bb=0, cc=0, i=1, j=2, k=3):\n",
    "    letter = 'ABCDEFGHIJKLMNOPQRSTUVWXYZ'\n",
    "    code = []\n",
    "    s = 0\n",
    "    inout_pin = 'FTKAGHCJDZMVEIRLQPYONWXSBU'  # 進出電盤'字母位置列表'\n",
    "    for x in word:\n",
    "        if x in letter:\n",
    "            a = (aa + s % 26) % 26  # 第一轉輸位置\n",
    "            b = (bb + (s // 26) % 26) % 26\n",
    "            c = (cc + (s // 676) % 26) % 26\n",
    "            g1 = inout_pin.find(x)  # 進出電盤輸入位置\n",
    "            g2 = roll(i, a).find(letter[g1])  # 第一轉輸入位置\n",
    "            g3 = roll(j, b).find(letter[g2])  # 第二轉輸入位置\n",
    "            g4 = roll(k, c).find(letter[g3])  # 第三轉輸入位置\n",
    "            b1 = (25 - g4)  # 轉換 第三轉輸出位置\n",
    "            b2 = letter.find(roll(k, c)[b1])  # 第二轉輸出位置\n",
    "            b3 = letter.find(roll(j, b)[b2])  # 第一轉輸出位置\n",
    "            b4 = letter.find(roll(i, a)[b3])  # 進出電盤輸出位置\n",
    "            code.append(inout_pin[b4])  # 進出電盤輸出位置轉換字母\n",
    "        else:\n",
    "            code.append(x)\n",
    "        s += 1\n",
    "    code = ''.join(code)\n",
    "    \n",
    "    return code\n",
    "\n",
    "def encode():\n",
    "    letter = 'ABCDEFGHIJKLMNOPQRSTUVWXYZ'  # 將隨意排列的子母轉成26個位置()\n",
    "\n",
    "    i, j, k = np.random.choice(np.arange(1, 5), size=3)\n",
    "    n = i*100 + j*10 + k\n",
    "    aa, bb, cc = np.random.choice(np.arange(0, 23), size=3)\n",
    "    ss = letter[aa] + letter[bb] + letter[cc]\n",
    "    print('轉盤設定: ', n)\n",
    "    print('位置設定: ', ss)\n",
    "    word = input('請輸入明碼(大小寫皆可):').upper()  # 全部轉換大寫\n",
    "    code = trsf(word, aa, bb, cc, i, j, k)\n",
    "    print(code)\n",
    "    \n",
    "    code_file = open('code.txt', 'a')\n",
    "    code_file.write('第一轉盤:' + '%d' % i + ' 原始位置:' + letter[aa] + '\\n')\n",
    "    code_file.write('第二轉盤:' + '%d' % j + ' 原始位置:' + letter[bb] + '\\n')\n",
    "    code_file.write('第三轉盤:' + '%d' % k + ' 原始位置:' + letter[cc] + '\\n')\n",
    "    code_file.write('明碼:' + word + '\\n')\n",
    "    code_file.write('暗碼:' + code + '\\n')\n",
    "    code_file.close()\n",
    "\n",
    "\n",
    "def decode():\n",
    "    letter = 'ABCDEFGHIJKLMNOPQRSTUVWXYZ'  # 將隨意排列的子母轉成26個位置()\n",
    "\n",
    "    n = int(input('選用轉盤(1~5) 三位數 例:123\\n'))\n",
    "    i = n // 100\n",
    "    j = (n % 100) // 10\n",
    "    k = ((n % 100) % 10)\n",
    "    ss = list(input('初始位置(A~Z) 三位數 例:AAB\\n').upper())\n",
    "    aa = letter.find(ss[0])\n",
    "    bb = letter.find(ss[1])\n",
    "    cc = letter.find(ss[2])\n",
    "    word = input('請輸入明碼(大小寫皆可):').upper()  # 全部轉換大寫\n",
    "    code = trsf(word, aa, bb, cc, i, j, k)\n",
    "    print(code)\n",
    "\n",
    "    code_file = open('code.txt', 'a')\n",
    "    code_file.write('第一轉盤:' + '%d' % i + ' 原始位置:' + letter[aa] + '\\n')\n",
    "    code_file.write('第二轉盤:' + '%d' % j + ' 原始位置:' + letter[bb] + '\\n')\n",
    "    code_file.write('第三轉盤:' + '%d' % k + ' 原始位置:' + letter[cc] + '\\n')\n",
    "    code_file.write('明碼:' + word + '\\n')\n",
    "    code_file.write('暗碼:' + code + '\\n')\n",
    "    code_file.close()\n"
   ]
  },
  {
   "cell_type": "code",
   "execution_count": 2,
   "metadata": {},
   "outputs": [
    {
     "name": "stdout",
     "output_type": "stream",
     "text": [
      "轉盤設定:  334\n",
      "位置設定:  IKB\n",
      "請輸入明碼(大小寫皆可):allison\n",
      "LNGVGKS\n"
     ]
    }
   ],
   "source": [
    "encode()"
   ]
  },
  {
   "cell_type": "code",
   "execution_count": 3,
   "metadata": {},
   "outputs": [
    {
     "name": "stdout",
     "output_type": "stream",
     "text": [
      "選用轉盤(1~5) 三位數 例:123\n",
      "334\n",
      "初始位置(A~Z) 三位數 例:AAB\n",
      "ikb\n",
      "請輸入明碼(大小寫皆可):LNGVGKS\n",
      "ALLISON\n"
     ]
    }
   ],
   "source": [
    "decode()"
   ]
  }
 ],
 "metadata": {
  "kernelspec": {
   "display_name": "Python 3",
   "language": "python",
   "name": "python3"
  },
  "language_info": {
   "codemirror_mode": {
    "name": "ipython",
    "version": 3
   },
   "file_extension": ".py",
   "mimetype": "text/x-python",
   "name": "python",
   "nbconvert_exporter": "python",
   "pygments_lexer": "ipython3",
   "version": "3.7.3"
  }
 },
 "nbformat": 4,
 "nbformat_minor": 2
}
